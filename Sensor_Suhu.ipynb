{
 "cells": [
  {
   "cell_type": "code",
   "execution_count": null,
   "metadata": {
    "id": "6tLkmhvZTlWr"
   },
   "outputs": [],
   "source": [
    "temp_type = \"\"\n",
    "moisture_type = \"Moist\"\n",
    "\n",
    "if temp_type == \"Cold\":\n",
    "  if moisture_type == \"Dry\":\n",
    "    print(\"Penyiraman 15 menit\")\n",
    "  elif moisture_type == \"Moist\":\n",
    "    print(\"Penyiraman 10 menit\")\n",
    "  elif moisture_type == \"Wet\":\n",
    "    print(\"Penyiraman 5 menit\")\n",
    "  else:\n",
    "    print(\"Perangkat Error\")\n",
    "elif temp_type == \"Normal\":\n",
    "  if moisture_type == \"Dry\":\n",
    "    print(\"Penyiraman 15 menit\")\n",
    "  elif moisture_type == \"Moist\":\n",
    "    print(\"Penyiraman 10 menit\")\n",
    "  elif moisture_type == \"Wet\":\n",
    "    print(\"Penyirmana 5 menit\")\n",
    "  else:\n",
    "    print(\"Perangkat Error\")\n",
    "else:\n",
    "  print(\"perangkat Error\")"
   ]
  }
 ],
 "metadata": {
  "colab": {
   "provenance": []
  },
  "kernelspec": {
   "display_name": "Python 3 (ipykernel)",
   "language": "python",
   "name": "python3"
  },
  "language_info": {
   "codemirror_mode": {
    "name": "ipython",
    "version": 3
   },
   "file_extension": ".py",
   "mimetype": "text/x-python",
   "name": "python",
   "nbconvert_exporter": "python",
   "pygments_lexer": "ipython3",
   "version": "3.11.0"
  }
 },
 "nbformat": 4,
 "nbformat_minor": 4
}
